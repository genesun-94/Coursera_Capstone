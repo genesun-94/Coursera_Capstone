{
    "cells": [
        {
            "cell_type": "markdown",
            "metadata": {},
            "source": "# A Tourist's Guide to Tokyo"
        },
        {
            "cell_type": "markdown",
            "metadata": {
                "collapsed": true
            },
            "source": "### Introduction"
        },
        {
            "cell_type": "markdown",
            "metadata": {},
            "source": "Before COVID-19, it was always a treat to be able to travel to a new city/destination and explore only a fraction of what the location had to offer. \n\nI am sure that I am not the only one to say that COVID-19 and quarantine has made me consider where I would travel next, once it is safe to do so.\n\nHowever, I am sure other people/tourists also experience the \"decision paralysis\" that comes with planning and travelling to an unknown city, especially in a foreign country. Oftentimes, there are too many factors such as where to stay, where to eat, what to sightsee, and where to explore the nightlife that leads to me not being able to make a decision. \n\nWhen travel opens up again, one of the places I would want to go to is Tokyo, Japan and this Coursera Data Science Capstone project is going to serve as a tourist's guide to Tokyo.\n\nTokyo is made up of 23 special wards. As if exploring an unknown city in a foreign country whose language you don't speak isn't difficult enough, how are we ever going to find out which area of the city is right for you? \n\nIn this case, this project can (hopefully) be considered useful for the tourist audience. Since I am personally interested in visiting Tokyo in the future, I can be a bit more specific and state that the tourist demographic that might align best with this project would be the male and mid-20s demographic. However, at the end of the day, great food and sights is good regardless of sex, gender, and age, so let's get started!\n"
        },
        {
            "cell_type": "markdown",
            "metadata": {},
            "source": "### Data"
        },
        {
            "cell_type": "markdown",
            "metadata": {},
            "source": "Similar to the previous couple weeks of this capstone course, we will be analyzing various neighborhoods in a city. In this case, we will be examining and scraping our data from the Wikipedia page here: https://en.wikipedia.org/wiki/Special_wards_of_Tokyo#List_of_special_wards in order to create the basis of our dataframe."
        },
        {
            "cell_type": "markdown",
            "metadata": {},
            "source": "Additionally, as part of the capstone project's requirements, we will be using Foursquare's API/location data in order to best determine the most suitable neighborhood/ward to visit. As mentioned previously, this is going to be relatively subjective based on my own preferences, but the baseline/basic criteria should be a mixture of food/sightseeing places. We'll go into more detail later on.\n\nHere are some examples of some initial examples that I'm thinking about exploring:\n\n    What/where are some of the highly rated ramen shops in Tokyo, and in what ward can I find these shops? I may feel more inclined to stay in     wards where the best ramen shops are just a short walk away.\n    \n    What/where are some of the highly rated tourist attractions in Tokyo?"
        },
        {
            "cell_type": "code",
            "execution_count": null,
            "metadata": {},
            "outputs": [],
            "source": ""
        }
    ],
    "metadata": {
        "kernelspec": {
            "display_name": "Python 3.7",
            "language": "python",
            "name": "python3"
        },
        "language_info": {
            "codemirror_mode": {
                "name": "ipython",
                "version": 3
            },
            "file_extension": ".py",
            "mimetype": "text/x-python",
            "name": "python",
            "nbconvert_exporter": "python",
            "pygments_lexer": "ipython3",
            "version": "3.7.9"
        }
    },
    "nbformat": 4,
    "nbformat_minor": 1
}