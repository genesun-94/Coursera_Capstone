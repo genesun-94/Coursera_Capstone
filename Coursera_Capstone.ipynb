{
    "cells": [
        {
            "cell_type": "markdown",
            "metadata": {
                "collapsed": true
            },
            "source": "This notebook will be mainly used for the Coursera capstone project."
        },
        {
            "cell_type": "code",
            "execution_count": 1,
            "metadata": {},
            "outputs": [],
            "source": "import pandas as pd\nimport numpy as np"
        },
        {
            "cell_type": "code",
            "execution_count": 2,
            "metadata": {},
            "outputs": [
                {
                    "name": "stdout",
                    "output_type": "stream",
                    "text": "Hello Capstone Project Course!\n"
                }
            ],
            "source": "print('Hello Capstone Project Course!')"
        },
        {
            "cell_type": "markdown",
            "metadata": {},
            "source": "# **Introduction**\n## Background\nThere are lots of cars traveling daily, either within Seattle or to/from the city, so there naturally is always a potential for accidents to occur within the city. How can we use data science to provide a safer future where we can predict the likelihood and severity of accidents?In this project for the Capstone project course for Applied Data Science, we are going to be looking at car accident severity in Seattle. We are going to be looking at a sample set of car accident severity data in Seattle. One main problem is that traffic happens as a result of an accident, as a reactionary byproduct. There is no way to proactively avoid being stuck in traffic as accidents may pop up at any point during the drive between point A and point B. By the time you are sitting in traffic caused by an accident, it is already too late to look for alternative routes to get to your destination. \n    \nAt the conclusion of this capstone project exercise, we will be able to utilize what we have learned over the course to better predict the likelihood and severity of an accident before it occurs. This will be useful in saving Seattle drivers time and health by being able to plan an alternative route. Another benefit may be that drivers may be able to save more money, as less repairs may occur from the result of accident prevention.\n    \nThis will prove to be useful for a few different groups of travellers:\n    \n    1. Commuters\n    2. Residents\n    3. Tourists\n   \nThese three groups of people travel to/from Seattle for different reasons, but traffic and car accident severity are very important pieces of information for their end goal: getting to point A to point B in a timely manner."
        },
        {
            "cell_type": "markdown",
            "metadata": {},
            "source": " "
        },
        {
            "cell_type": "markdown",
            "metadata": {},
            "source": "# **Data**\nThe data we are going to be looking at here is a sample set of car accident severity within the city of Seattle. In order to best predict the likelihood and car accident severity, there are a number of factors we need to look at. In order to determine what areas are potentially more dangerous than others, we need to look at the location of the accidents within the dataset. This comes in the form of several columns - we have an X and Y column for coordinates, while also getting the specific location and address type (Intersection/Alley/Block etc). Are there locations that appear more than once within this dataset? What type of address is the most common? What is the most common area in the city where accidents are occurring? Additionally, we need to take a look at what kind of accident occurred at each location. We have the columns Severity, Person Count, Ped Count, Veh Count, and Collision to help us with this. A rear-end collision in which no one gets hurt should not be considered as severe as a multi-car accident where multiple people/pedestrians/vehicles were hurt/damaged. What type of accidents here are the most dangerous? What makes a location more prone to one kind of accident over another? Lastly, we need to consider other factors that may have contributed to the accident. These factors, within the dataset, come in the form of Weather, Road Conditions, and Light Conditions. Was it raining when the accident occurred? How wet/slippery were the roads? Did the accident occur at night with lower visibility, or during the day?\n\nThere are a lot of different factors here but with data science, we can use this dataset to better preddict the likelihood and severity of future car accidents in Seattle."
        },
        {
            "cell_type": "code",
            "execution_count": null,
            "metadata": {},
            "outputs": [],
            "source": ""
        }
    ],
    "metadata": {
        "kernelspec": {
            "display_name": "Python 3.6",
            "language": "python",
            "name": "python3"
        },
        "language_info": {
            "codemirror_mode": {
                "name": "ipython",
                "version": 3
            },
            "file_extension": ".py",
            "mimetype": "text/x-python",
            "name": "python",
            "nbconvert_exporter": "python",
            "pygments_lexer": "ipython3",
            "version": "3.6.9"
        }
    },
    "nbformat": 4,
    "nbformat_minor": 1
}